{
 "cells": [
  {
   "cell_type": "code",
   "execution_count": 1,
   "id": "ac8bfd1b",
   "metadata": {},
   "outputs": [
    {
     "name": "stdout",
     "output_type": "stream",
     "text": [
      "Init Plugin\n",
      "Init Graph Optimizer\n",
      "Init Kernel\n"
     ]
    }
   ],
   "source": [
    "import tensorflow as tf"
   ]
  },
  {
   "cell_type": "code",
   "execution_count": 2,
   "id": "c5e9b3aa",
   "metadata": {},
   "outputs": [
    {
     "name": "stdout",
     "output_type": "stream",
     "text": [
      "2.5.0\n"
     ]
    }
   ],
   "source": [
    "print(tf.__version__)"
   ]
  },
  {
   "cell_type": "code",
   "execution_count": 3,
   "id": "1e926e3f",
   "metadata": {},
   "outputs": [],
   "source": [
    "import numpy as np\n",
    "import pandas as pd\n",
    "import matplotlib.pyplot as plt"
   ]
  },
  {
   "cell_type": "code",
   "execution_count": 4,
   "id": "e1b2e08a",
   "metadata": {},
   "outputs": [],
   "source": [
    "data = pd.read_csv(\"/Users/nikhil/Downloads/Churn_Modelling/Churn_Modelling.csv\")"
   ]
  },
  {
   "cell_type": "code",
   "execution_count": 5,
   "id": "af575139",
   "metadata": {},
   "outputs": [
    {
     "data": {
      "text/html": [
       "<div>\n",
       "<style scoped>\n",
       "    .dataframe tbody tr th:only-of-type {\n",
       "        vertical-align: middle;\n",
       "    }\n",
       "\n",
       "    .dataframe tbody tr th {\n",
       "        vertical-align: top;\n",
       "    }\n",
       "\n",
       "    .dataframe thead th {\n",
       "        text-align: right;\n",
       "    }\n",
       "</style>\n",
       "<table border=\"1\" class=\"dataframe\">\n",
       "  <thead>\n",
       "    <tr style=\"text-align: right;\">\n",
       "      <th></th>\n",
       "      <th>RowNumber</th>\n",
       "      <th>CustomerId</th>\n",
       "      <th>Surname</th>\n",
       "      <th>CreditScore</th>\n",
       "      <th>Geography</th>\n",
       "      <th>Gender</th>\n",
       "      <th>Age</th>\n",
       "      <th>Tenure</th>\n",
       "      <th>Balance</th>\n",
       "      <th>NumOfProducts</th>\n",
       "      <th>HasCrCard</th>\n",
       "      <th>IsActiveMember</th>\n",
       "      <th>EstimatedSalary</th>\n",
       "      <th>Exited</th>\n",
       "    </tr>\n",
       "  </thead>\n",
       "  <tbody>\n",
       "    <tr>\n",
       "      <th>0</th>\n",
       "      <td>1</td>\n",
       "      <td>15634602</td>\n",
       "      <td>Hargrave</td>\n",
       "      <td>619</td>\n",
       "      <td>France</td>\n",
       "      <td>Female</td>\n",
       "      <td>42</td>\n",
       "      <td>2</td>\n",
       "      <td>0.00</td>\n",
       "      <td>1</td>\n",
       "      <td>1</td>\n",
       "      <td>1</td>\n",
       "      <td>101348.88</td>\n",
       "      <td>1</td>\n",
       "    </tr>\n",
       "    <tr>\n",
       "      <th>1</th>\n",
       "      <td>2</td>\n",
       "      <td>15647311</td>\n",
       "      <td>Hill</td>\n",
       "      <td>608</td>\n",
       "      <td>Spain</td>\n",
       "      <td>Female</td>\n",
       "      <td>41</td>\n",
       "      <td>1</td>\n",
       "      <td>83807.86</td>\n",
       "      <td>1</td>\n",
       "      <td>0</td>\n",
       "      <td>1</td>\n",
       "      <td>112542.58</td>\n",
       "      <td>0</td>\n",
       "    </tr>\n",
       "    <tr>\n",
       "      <th>2</th>\n",
       "      <td>3</td>\n",
       "      <td>15619304</td>\n",
       "      <td>Onio</td>\n",
       "      <td>502</td>\n",
       "      <td>France</td>\n",
       "      <td>Female</td>\n",
       "      <td>42</td>\n",
       "      <td>8</td>\n",
       "      <td>159660.80</td>\n",
       "      <td>3</td>\n",
       "      <td>1</td>\n",
       "      <td>0</td>\n",
       "      <td>113931.57</td>\n",
       "      <td>1</td>\n",
       "    </tr>\n",
       "    <tr>\n",
       "      <th>3</th>\n",
       "      <td>4</td>\n",
       "      <td>15701354</td>\n",
       "      <td>Boni</td>\n",
       "      <td>699</td>\n",
       "      <td>France</td>\n",
       "      <td>Female</td>\n",
       "      <td>39</td>\n",
       "      <td>1</td>\n",
       "      <td>0.00</td>\n",
       "      <td>2</td>\n",
       "      <td>0</td>\n",
       "      <td>0</td>\n",
       "      <td>93826.63</td>\n",
       "      <td>0</td>\n",
       "    </tr>\n",
       "    <tr>\n",
       "      <th>4</th>\n",
       "      <td>5</td>\n",
       "      <td>15737888</td>\n",
       "      <td>Mitchell</td>\n",
       "      <td>850</td>\n",
       "      <td>Spain</td>\n",
       "      <td>Female</td>\n",
       "      <td>43</td>\n",
       "      <td>2</td>\n",
       "      <td>125510.82</td>\n",
       "      <td>1</td>\n",
       "      <td>1</td>\n",
       "      <td>1</td>\n",
       "      <td>79084.10</td>\n",
       "      <td>0</td>\n",
       "    </tr>\n",
       "  </tbody>\n",
       "</table>\n",
       "</div>"
      ],
      "text/plain": [
       "   RowNumber  CustomerId   Surname  CreditScore Geography  Gender  Age  \\\n",
       "0          1    15634602  Hargrave          619    France  Female   42   \n",
       "1          2    15647311      Hill          608     Spain  Female   41   \n",
       "2          3    15619304      Onio          502    France  Female   42   \n",
       "3          4    15701354      Boni          699    France  Female   39   \n",
       "4          5    15737888  Mitchell          850     Spain  Female   43   \n",
       "\n",
       "   Tenure    Balance  NumOfProducts  HasCrCard  IsActiveMember  \\\n",
       "0       2       0.00              1          1               1   \n",
       "1       1   83807.86              1          0               1   \n",
       "2       8  159660.80              3          1               0   \n",
       "3       1       0.00              2          0               0   \n",
       "4       2  125510.82              1          1               1   \n",
       "\n",
       "   EstimatedSalary  Exited  \n",
       "0        101348.88       1  \n",
       "1        112542.58       0  \n",
       "2        113931.57       1  \n",
       "3         93826.63       0  \n",
       "4         79084.10       0  "
      ]
     },
     "execution_count": 5,
     "metadata": {},
     "output_type": "execute_result"
    }
   ],
   "source": [
    "data.head()"
   ]
  },
  {
   "cell_type": "code",
   "execution_count": 6,
   "id": "2b735776",
   "metadata": {},
   "outputs": [],
   "source": [
    "X = data.drop(columns=['Exited','CustomerId','Surname',])"
   ]
  },
  {
   "cell_type": "code",
   "execution_count": 7,
   "id": "90390530",
   "metadata": {},
   "outputs": [
    {
     "data": {
      "text/html": [
       "<div>\n",
       "<style scoped>\n",
       "    .dataframe tbody tr th:only-of-type {\n",
       "        vertical-align: middle;\n",
       "    }\n",
       "\n",
       "    .dataframe tbody tr th {\n",
       "        vertical-align: top;\n",
       "    }\n",
       "\n",
       "    .dataframe thead th {\n",
       "        text-align: right;\n",
       "    }\n",
       "</style>\n",
       "<table border=\"1\" class=\"dataframe\">\n",
       "  <thead>\n",
       "    <tr style=\"text-align: right;\">\n",
       "      <th></th>\n",
       "      <th>RowNumber</th>\n",
       "      <th>CreditScore</th>\n",
       "      <th>Geography</th>\n",
       "      <th>Gender</th>\n",
       "      <th>Age</th>\n",
       "      <th>Tenure</th>\n",
       "      <th>Balance</th>\n",
       "      <th>NumOfProducts</th>\n",
       "      <th>HasCrCard</th>\n",
       "      <th>IsActiveMember</th>\n",
       "      <th>EstimatedSalary</th>\n",
       "    </tr>\n",
       "  </thead>\n",
       "  <tbody>\n",
       "    <tr>\n",
       "      <th>0</th>\n",
       "      <td>1</td>\n",
       "      <td>619</td>\n",
       "      <td>France</td>\n",
       "      <td>Female</td>\n",
       "      <td>42</td>\n",
       "      <td>2</td>\n",
       "      <td>0.00</td>\n",
       "      <td>1</td>\n",
       "      <td>1</td>\n",
       "      <td>1</td>\n",
       "      <td>101348.88</td>\n",
       "    </tr>\n",
       "    <tr>\n",
       "      <th>1</th>\n",
       "      <td>2</td>\n",
       "      <td>608</td>\n",
       "      <td>Spain</td>\n",
       "      <td>Female</td>\n",
       "      <td>41</td>\n",
       "      <td>1</td>\n",
       "      <td>83807.86</td>\n",
       "      <td>1</td>\n",
       "      <td>0</td>\n",
       "      <td>1</td>\n",
       "      <td>112542.58</td>\n",
       "    </tr>\n",
       "    <tr>\n",
       "      <th>2</th>\n",
       "      <td>3</td>\n",
       "      <td>502</td>\n",
       "      <td>France</td>\n",
       "      <td>Female</td>\n",
       "      <td>42</td>\n",
       "      <td>8</td>\n",
       "      <td>159660.80</td>\n",
       "      <td>3</td>\n",
       "      <td>1</td>\n",
       "      <td>0</td>\n",
       "      <td>113931.57</td>\n",
       "    </tr>\n",
       "    <tr>\n",
       "      <th>3</th>\n",
       "      <td>4</td>\n",
       "      <td>699</td>\n",
       "      <td>France</td>\n",
       "      <td>Female</td>\n",
       "      <td>39</td>\n",
       "      <td>1</td>\n",
       "      <td>0.00</td>\n",
       "      <td>2</td>\n",
       "      <td>0</td>\n",
       "      <td>0</td>\n",
       "      <td>93826.63</td>\n",
       "    </tr>\n",
       "    <tr>\n",
       "      <th>4</th>\n",
       "      <td>5</td>\n",
       "      <td>850</td>\n",
       "      <td>Spain</td>\n",
       "      <td>Female</td>\n",
       "      <td>43</td>\n",
       "      <td>2</td>\n",
       "      <td>125510.82</td>\n",
       "      <td>1</td>\n",
       "      <td>1</td>\n",
       "      <td>1</td>\n",
       "      <td>79084.10</td>\n",
       "    </tr>\n",
       "  </tbody>\n",
       "</table>\n",
       "</div>"
      ],
      "text/plain": [
       "   RowNumber  CreditScore Geography  Gender  Age  Tenure    Balance  \\\n",
       "0          1          619    France  Female   42       2       0.00   \n",
       "1          2          608     Spain  Female   41       1   83807.86   \n",
       "2          3          502    France  Female   42       8  159660.80   \n",
       "3          4          699    France  Female   39       1       0.00   \n",
       "4          5          850     Spain  Female   43       2  125510.82   \n",
       "\n",
       "   NumOfProducts  HasCrCard  IsActiveMember  EstimatedSalary  \n",
       "0              1          1               1        101348.88  \n",
       "1              1          0               1        112542.58  \n",
       "2              3          1               0        113931.57  \n",
       "3              2          0               0         93826.63  \n",
       "4              1          1               1         79084.10  "
      ]
     },
     "execution_count": 7,
     "metadata": {},
     "output_type": "execute_result"
    }
   ],
   "source": [
    "X.head()"
   ]
  },
  {
   "cell_type": "code",
   "execution_count": 8,
   "id": "6e204a29",
   "metadata": {},
   "outputs": [],
   "source": [
    "y = data['Exited']"
   ]
  },
  {
   "cell_type": "code",
   "execution_count": 9,
   "id": "c5232a7d",
   "metadata": {},
   "outputs": [
    {
     "data": {
      "text/plain": [
       "0    1\n",
       "1    0\n",
       "2    1\n",
       "3    0\n",
       "4    0\n",
       "Name: Exited, dtype: int64"
      ]
     },
     "execution_count": 9,
     "metadata": {},
     "output_type": "execute_result"
    }
   ],
   "source": [
    "y.head()"
   ]
  },
  {
   "cell_type": "code",
   "execution_count": 10,
   "id": "4bce63e8",
   "metadata": {},
   "outputs": [],
   "source": [
    "## Feature Engineering"
   ]
  },
  {
   "cell_type": "code",
   "execution_count": 11,
   "id": "4c92cf68",
   "metadata": {},
   "outputs": [],
   "source": [
    "geo = pd.get_dummies(X['Geography'],drop_first=True)\n",
    "gen = pd.get_dummies(X['Gender'],drop_first=True)"
   ]
  },
  {
   "cell_type": "code",
   "execution_count": 12,
   "id": "15f5ec2b",
   "metadata": {},
   "outputs": [],
   "source": [
    "X = pd.concat([X,geo,gen],axis=1)"
   ]
  },
  {
   "cell_type": "code",
   "execution_count": 13,
   "id": "cc76157a",
   "metadata": {},
   "outputs": [
    {
     "data": {
      "text/html": [
       "<div>\n",
       "<style scoped>\n",
       "    .dataframe tbody tr th:only-of-type {\n",
       "        vertical-align: middle;\n",
       "    }\n",
       "\n",
       "    .dataframe tbody tr th {\n",
       "        vertical-align: top;\n",
       "    }\n",
       "\n",
       "    .dataframe thead th {\n",
       "        text-align: right;\n",
       "    }\n",
       "</style>\n",
       "<table border=\"1\" class=\"dataframe\">\n",
       "  <thead>\n",
       "    <tr style=\"text-align: right;\">\n",
       "      <th></th>\n",
       "      <th>RowNumber</th>\n",
       "      <th>CreditScore</th>\n",
       "      <th>Geography</th>\n",
       "      <th>Gender</th>\n",
       "      <th>Age</th>\n",
       "      <th>Tenure</th>\n",
       "      <th>Balance</th>\n",
       "      <th>NumOfProducts</th>\n",
       "      <th>HasCrCard</th>\n",
       "      <th>IsActiveMember</th>\n",
       "      <th>EstimatedSalary</th>\n",
       "      <th>Germany</th>\n",
       "      <th>Spain</th>\n",
       "      <th>Male</th>\n",
       "    </tr>\n",
       "  </thead>\n",
       "  <tbody>\n",
       "    <tr>\n",
       "      <th>0</th>\n",
       "      <td>1</td>\n",
       "      <td>619</td>\n",
       "      <td>France</td>\n",
       "      <td>Female</td>\n",
       "      <td>42</td>\n",
       "      <td>2</td>\n",
       "      <td>0.00</td>\n",
       "      <td>1</td>\n",
       "      <td>1</td>\n",
       "      <td>1</td>\n",
       "      <td>101348.88</td>\n",
       "      <td>0</td>\n",
       "      <td>0</td>\n",
       "      <td>0</td>\n",
       "    </tr>\n",
       "    <tr>\n",
       "      <th>1</th>\n",
       "      <td>2</td>\n",
       "      <td>608</td>\n",
       "      <td>Spain</td>\n",
       "      <td>Female</td>\n",
       "      <td>41</td>\n",
       "      <td>1</td>\n",
       "      <td>83807.86</td>\n",
       "      <td>1</td>\n",
       "      <td>0</td>\n",
       "      <td>1</td>\n",
       "      <td>112542.58</td>\n",
       "      <td>0</td>\n",
       "      <td>1</td>\n",
       "      <td>0</td>\n",
       "    </tr>\n",
       "    <tr>\n",
       "      <th>2</th>\n",
       "      <td>3</td>\n",
       "      <td>502</td>\n",
       "      <td>France</td>\n",
       "      <td>Female</td>\n",
       "      <td>42</td>\n",
       "      <td>8</td>\n",
       "      <td>159660.80</td>\n",
       "      <td>3</td>\n",
       "      <td>1</td>\n",
       "      <td>0</td>\n",
       "      <td>113931.57</td>\n",
       "      <td>0</td>\n",
       "      <td>0</td>\n",
       "      <td>0</td>\n",
       "    </tr>\n",
       "    <tr>\n",
       "      <th>3</th>\n",
       "      <td>4</td>\n",
       "      <td>699</td>\n",
       "      <td>France</td>\n",
       "      <td>Female</td>\n",
       "      <td>39</td>\n",
       "      <td>1</td>\n",
       "      <td>0.00</td>\n",
       "      <td>2</td>\n",
       "      <td>0</td>\n",
       "      <td>0</td>\n",
       "      <td>93826.63</td>\n",
       "      <td>0</td>\n",
       "      <td>0</td>\n",
       "      <td>0</td>\n",
       "    </tr>\n",
       "    <tr>\n",
       "      <th>4</th>\n",
       "      <td>5</td>\n",
       "      <td>850</td>\n",
       "      <td>Spain</td>\n",
       "      <td>Female</td>\n",
       "      <td>43</td>\n",
       "      <td>2</td>\n",
       "      <td>125510.82</td>\n",
       "      <td>1</td>\n",
       "      <td>1</td>\n",
       "      <td>1</td>\n",
       "      <td>79084.10</td>\n",
       "      <td>0</td>\n",
       "      <td>1</td>\n",
       "      <td>0</td>\n",
       "    </tr>\n",
       "    <tr>\n",
       "      <th>...</th>\n",
       "      <td>...</td>\n",
       "      <td>...</td>\n",
       "      <td>...</td>\n",
       "      <td>...</td>\n",
       "      <td>...</td>\n",
       "      <td>...</td>\n",
       "      <td>...</td>\n",
       "      <td>...</td>\n",
       "      <td>...</td>\n",
       "      <td>...</td>\n",
       "      <td>...</td>\n",
       "      <td>...</td>\n",
       "      <td>...</td>\n",
       "      <td>...</td>\n",
       "    </tr>\n",
       "    <tr>\n",
       "      <th>9995</th>\n",
       "      <td>9996</td>\n",
       "      <td>771</td>\n",
       "      <td>France</td>\n",
       "      <td>Male</td>\n",
       "      <td>39</td>\n",
       "      <td>5</td>\n",
       "      <td>0.00</td>\n",
       "      <td>2</td>\n",
       "      <td>1</td>\n",
       "      <td>0</td>\n",
       "      <td>96270.64</td>\n",
       "      <td>0</td>\n",
       "      <td>0</td>\n",
       "      <td>1</td>\n",
       "    </tr>\n",
       "    <tr>\n",
       "      <th>9996</th>\n",
       "      <td>9997</td>\n",
       "      <td>516</td>\n",
       "      <td>France</td>\n",
       "      <td>Male</td>\n",
       "      <td>35</td>\n",
       "      <td>10</td>\n",
       "      <td>57369.61</td>\n",
       "      <td>1</td>\n",
       "      <td>1</td>\n",
       "      <td>1</td>\n",
       "      <td>101699.77</td>\n",
       "      <td>0</td>\n",
       "      <td>0</td>\n",
       "      <td>1</td>\n",
       "    </tr>\n",
       "    <tr>\n",
       "      <th>9997</th>\n",
       "      <td>9998</td>\n",
       "      <td>709</td>\n",
       "      <td>France</td>\n",
       "      <td>Female</td>\n",
       "      <td>36</td>\n",
       "      <td>7</td>\n",
       "      <td>0.00</td>\n",
       "      <td>1</td>\n",
       "      <td>0</td>\n",
       "      <td>1</td>\n",
       "      <td>42085.58</td>\n",
       "      <td>0</td>\n",
       "      <td>0</td>\n",
       "      <td>0</td>\n",
       "    </tr>\n",
       "    <tr>\n",
       "      <th>9998</th>\n",
       "      <td>9999</td>\n",
       "      <td>772</td>\n",
       "      <td>Germany</td>\n",
       "      <td>Male</td>\n",
       "      <td>42</td>\n",
       "      <td>3</td>\n",
       "      <td>75075.31</td>\n",
       "      <td>2</td>\n",
       "      <td>1</td>\n",
       "      <td>0</td>\n",
       "      <td>92888.52</td>\n",
       "      <td>1</td>\n",
       "      <td>0</td>\n",
       "      <td>1</td>\n",
       "    </tr>\n",
       "    <tr>\n",
       "      <th>9999</th>\n",
       "      <td>10000</td>\n",
       "      <td>792</td>\n",
       "      <td>France</td>\n",
       "      <td>Female</td>\n",
       "      <td>28</td>\n",
       "      <td>4</td>\n",
       "      <td>130142.79</td>\n",
       "      <td>1</td>\n",
       "      <td>1</td>\n",
       "      <td>0</td>\n",
       "      <td>38190.78</td>\n",
       "      <td>0</td>\n",
       "      <td>0</td>\n",
       "      <td>0</td>\n",
       "    </tr>\n",
       "  </tbody>\n",
       "</table>\n",
       "<p>10000 rows × 14 columns</p>\n",
       "</div>"
      ],
      "text/plain": [
       "      RowNumber  CreditScore Geography  Gender  Age  Tenure    Balance  \\\n",
       "0             1          619    France  Female   42       2       0.00   \n",
       "1             2          608     Spain  Female   41       1   83807.86   \n",
       "2             3          502    France  Female   42       8  159660.80   \n",
       "3             4          699    France  Female   39       1       0.00   \n",
       "4             5          850     Spain  Female   43       2  125510.82   \n",
       "...         ...          ...       ...     ...  ...     ...        ...   \n",
       "9995       9996          771    France    Male   39       5       0.00   \n",
       "9996       9997          516    France    Male   35      10   57369.61   \n",
       "9997       9998          709    France  Female   36       7       0.00   \n",
       "9998       9999          772   Germany    Male   42       3   75075.31   \n",
       "9999      10000          792    France  Female   28       4  130142.79   \n",
       "\n",
       "      NumOfProducts  HasCrCard  IsActiveMember  EstimatedSalary  Germany  \\\n",
       "0                 1          1               1        101348.88        0   \n",
       "1                 1          0               1        112542.58        0   \n",
       "2                 3          1               0        113931.57        0   \n",
       "3                 2          0               0         93826.63        0   \n",
       "4                 1          1               1         79084.10        0   \n",
       "...             ...        ...             ...              ...      ...   \n",
       "9995              2          1               0         96270.64        0   \n",
       "9996              1          1               1        101699.77        0   \n",
       "9997              1          0               1         42085.58        0   \n",
       "9998              2          1               0         92888.52        1   \n",
       "9999              1          1               0         38190.78        0   \n",
       "\n",
       "      Spain  Male  \n",
       "0         0     0  \n",
       "1         1     0  \n",
       "2         0     0  \n",
       "3         0     0  \n",
       "4         1     0  \n",
       "...     ...   ...  \n",
       "9995      0     1  \n",
       "9996      0     1  \n",
       "9997      0     0  \n",
       "9998      0     1  \n",
       "9999      0     0  \n",
       "\n",
       "[10000 rows x 14 columns]"
      ]
     },
     "execution_count": 13,
     "metadata": {},
     "output_type": "execute_result"
    }
   ],
   "source": [
    "X"
   ]
  },
  {
   "cell_type": "code",
   "execution_count": 14,
   "id": "4fb3ca38",
   "metadata": {},
   "outputs": [],
   "source": [
    "X.drop(columns=['Geography','Gender'],inplace=True)"
   ]
  },
  {
   "cell_type": "code",
   "execution_count": 15,
   "id": "0f289f53",
   "metadata": {},
   "outputs": [],
   "source": [
    "from sklearn.model_selection import train_test_split"
   ]
  },
  {
   "cell_type": "code",
   "execution_count": 16,
   "id": "b6110638",
   "metadata": {},
   "outputs": [],
   "source": [
    "X_train,X_test,y_train,y_test= train_test_split(X,y,test_size=0.3,random_state=42)"
   ]
  },
  {
   "cell_type": "code",
   "execution_count": 17,
   "id": "d51084eb",
   "metadata": {},
   "outputs": [
    {
     "data": {
      "text/plain": [
       "(7000, 12)"
      ]
     },
     "execution_count": 17,
     "metadata": {},
     "output_type": "execute_result"
    }
   ],
   "source": [
    "X_train.shape"
   ]
  },
  {
   "cell_type": "code",
   "execution_count": 18,
   "id": "388bfb50",
   "metadata": {},
   "outputs": [
    {
     "data": {
      "text/plain": [
       "(3000, 12)"
      ]
     },
     "execution_count": 18,
     "metadata": {},
     "output_type": "execute_result"
    }
   ],
   "source": [
    "X_test.shape"
   ]
  },
  {
   "cell_type": "code",
   "execution_count": 19,
   "id": "6cc8a5d0",
   "metadata": {},
   "outputs": [],
   "source": [
    "from sklearn.preprocessing import StandardScaler"
   ]
  },
  {
   "cell_type": "code",
   "execution_count": 20,
   "id": "5fc75459",
   "metadata": {},
   "outputs": [],
   "source": [
    "trf = StandardScaler()"
   ]
  },
  {
   "cell_type": "code",
   "execution_count": 21,
   "id": "6ad9404c",
   "metadata": {},
   "outputs": [],
   "source": [
    "X_train = trf.fit_transform(X_train)"
   ]
  },
  {
   "cell_type": "code",
   "execution_count": 22,
   "id": "f0483632",
   "metadata": {},
   "outputs": [],
   "source": [
    "X_test = trf.transform(X_test)"
   ]
  },
  {
   "cell_type": "code",
   "execution_count": 23,
   "id": "3f125be6",
   "metadata": {},
   "outputs": [
    {
     "data": {
      "text/plain": [
       "(7000, 12)"
      ]
     },
     "execution_count": 23,
     "metadata": {},
     "output_type": "execute_result"
    }
   ],
   "source": [
    "X_train.shape"
   ]
  },
  {
   "cell_type": "code",
   "execution_count": 24,
   "id": "b63bd298",
   "metadata": {},
   "outputs": [],
   "source": [
    "# Lets create an ANN network\n",
    "# tensorflow :opensource(Google(Deepmind)) : < 2.0 tensorflow seperate ,keras wrapper :  > 2.0 keras and temsorflow gets integrated."
   ]
  },
  {
   "cell_type": "code",
   "execution_count": 25,
   "id": "792e8f8f",
   "metadata": {},
   "outputs": [],
   "source": [
    "from tensorflow.keras.models import Sequential\n",
    "from tensorflow.keras.layers import Dense\n",
    "from tensorflow.keras.layers import LeakyReLU,ReLU,ELU,PReLU\n",
    "from tensorflow.keras.layers import Dropout"
   ]
  },
  {
   "cell_type": "code",
   "execution_count": 26,
   "id": "e80f3f7f",
   "metadata": {},
   "outputs": [],
   "source": [
    "## Initialize the ANN"
   ]
  },
  {
   "cell_type": "code",
   "execution_count": 27,
   "id": "0dc33f05",
   "metadata": {},
   "outputs": [
    {
     "name": "stdout",
     "output_type": "stream",
     "text": [
      "Metal device set to: Apple M1\n"
     ]
    },
    {
     "name": "stderr",
     "output_type": "stream",
     "text": [
      "2022-05-06 00:59:23.705813: I tensorflow/core/common_runtime/pluggable_device/pluggable_device_factory.cc:305] Could not identify NUMA node of platform GPU ID 0, defaulting to 0. Your kernel may not have been built with NUMA support.\n",
      "2022-05-06 00:59:23.705913: I tensorflow/core/common_runtime/pluggable_device/pluggable_device_factory.cc:271] Created TensorFlow device (/job:localhost/replica:0/task:0/device:GPU:0 with 0 MB memory) -> physical PluggableDevice (device: 0, name: METAL, pci bus id: <undefined>)\n"
     ]
    }
   ],
   "source": [
    "clf = Sequential()"
   ]
  },
  {
   "cell_type": "code",
   "execution_count": 28,
   "id": "8b1f16ae",
   "metadata": {},
   "outputs": [],
   "source": [
    "clf.add(Dense(units=11,activation='relu'))"
   ]
  },
  {
   "cell_type": "code",
   "execution_count": 29,
   "id": "4d583726",
   "metadata": {},
   "outputs": [],
   "source": [
    "## adding first hidden layer"
   ]
  },
  {
   "cell_type": "code",
   "execution_count": 30,
   "id": "6d5d5ede",
   "metadata": {},
   "outputs": [],
   "source": [
    "clf.add(Dense(units=7,activation='relu'))"
   ]
  },
  {
   "cell_type": "code",
   "execution_count": 31,
   "id": "e94eedc2",
   "metadata": {},
   "outputs": [],
   "source": [
    "clf.add(Dense(units=6,activation='relu'))"
   ]
  },
  {
   "cell_type": "code",
   "execution_count": 32,
   "id": "100a6625",
   "metadata": {},
   "outputs": [],
   "source": [
    "clf.add(Dense(units=1,activation='sigmoid'))"
   ]
  },
  {
   "cell_type": "code",
   "execution_count": 33,
   "id": "921232c5",
   "metadata": {},
   "outputs": [],
   "source": [
    "clf.compile(optimizer='adam',loss='binary_crossentropy',metrics=['accuracy'])"
   ]
  },
  {
   "cell_type": "code",
   "execution_count": 34,
   "id": "78db4ab0",
   "metadata": {},
   "outputs": [],
   "source": [
    "import tensorflow"
   ]
  },
  {
   "cell_type": "code",
   "execution_count": 35,
   "id": "237ff9a2",
   "metadata": {},
   "outputs": [],
   "source": [
    "opt = tensorflow.keras.optimizers.Adam(learning_rate=0.01)"
   ]
  },
  {
   "cell_type": "code",
   "execution_count": 36,
   "id": "d5a86cd2",
   "metadata": {},
   "outputs": [],
   "source": [
    "#model_his = clf.fit(X_train,y_train,validation_split=0.33,batch_size=10,epochs=1000)"
   ]
  },
  {
   "cell_type": "code",
   "execution_count": 37,
   "id": "86870ab1",
   "metadata": {},
   "outputs": [],
   "source": [
    "# Early stopping : when the accuracy not increasing , automatically traning stopped"
   ]
  },
  {
   "cell_type": "code",
   "execution_count": 38,
   "id": "de21bc2f",
   "metadata": {},
   "outputs": [],
   "source": [
    "import tensorflow as tf"
   ]
  },
  {
   "cell_type": "code",
   "execution_count": 39,
   "id": "ea47abd0",
   "metadata": {},
   "outputs": [],
   "source": [
    "early_stopping = tf.keras.callbacks.EarlyStopping(\n",
    "    monitor=\"val_loss\",\n",
    "    min_delta=0.0001,\n",
    "    patience=20,\n",
    "    verbose=1,\n",
    "    mode=\"auto\",\n",
    "    baseline=None,\n",
    "    restore_best_weights=False,\n",
    ")"
   ]
  },
  {
   "cell_type": "code",
   "execution_count": 40,
   "id": "469ca71f",
   "metadata": {},
   "outputs": [
    {
     "name": "stdout",
     "output_type": "stream",
     "text": [
      "Epoch 1/1000\n"
     ]
    },
    {
     "name": "stderr",
     "output_type": "stream",
     "text": [
      "2022-05-06 00:59:23.796438: I tensorflow/compiler/mlir/mlir_graph_optimization_pass.cc:176] None of the MLIR Optimization Passes are enabled (registered 2)\n",
      "2022-05-06 00:59:23.796603: W tensorflow/core/platform/profile_utils/cpu_utils.cc:128] Failed to get CPU frequency: 0 Hz\n",
      "2022-05-06 00:59:23.991309: I tensorflow/core/grappler/optimizers/custom_graph_optimizer_registry.cc:112] Plugin optimizer for device_type GPU is enabled.\n"
     ]
    },
    {
     "name": "stdout",
     "output_type": "stream",
     "text": [
      "469/469 [==============================] - ETA: 0s - loss: 0.5306 - accuracy: 0.7573"
     ]
    },
    {
     "name": "stderr",
     "output_type": "stream",
     "text": [
      "2022-05-06 00:59:26.644862: I tensorflow/core/grappler/optimizers/custom_graph_optimizer_registry.cc:112] Plugin optimizer for device_type GPU is enabled.\n"
     ]
    },
    {
     "name": "stdout",
     "output_type": "stream",
     "text": [
      "469/469 [==============================] - 3s 7ms/step - loss: 0.5306 - accuracy: 0.7573 - val_loss: 0.4658 - val_accuracy: 0.7893\n",
      "Epoch 2/1000\n",
      "469/469 [==============================] - 3s 6ms/step - loss: 0.4442 - accuracy: 0.7940 - val_loss: 0.4430 - val_accuracy: 0.7893\n",
      "Epoch 3/1000\n",
      "469/469 [==============================] - 3s 6ms/step - loss: 0.4264 - accuracy: 0.7940 - val_loss: 0.4339 - val_accuracy: 0.7893\n",
      "Epoch 4/1000\n",
      "469/469 [==============================] - 3s 6ms/step - loss: 0.4147 - accuracy: 0.7940 - val_loss: 0.4290 - val_accuracy: 0.7893\n",
      "Epoch 5/1000\n",
      "469/469 [==============================] - 3s 6ms/step - loss: 0.4063 - accuracy: 0.7940 - val_loss: 0.4234 - val_accuracy: 0.7893\n",
      "Epoch 6/1000\n",
      "469/469 [==============================] - 3s 6ms/step - loss: 0.3980 - accuracy: 0.8004 - val_loss: 0.4154 - val_accuracy: 0.8118\n",
      "Epoch 7/1000\n",
      "469/469 [==============================] - 3s 6ms/step - loss: 0.3904 - accuracy: 0.8224 - val_loss: 0.4090 - val_accuracy: 0.8170\n",
      "Epoch 8/1000\n",
      "469/469 [==============================] - 3s 6ms/step - loss: 0.3831 - accuracy: 0.8228 - val_loss: 0.4060 - val_accuracy: 0.8152\n",
      "Epoch 9/1000\n",
      "469/469 [==============================] - 3s 6ms/step - loss: 0.3769 - accuracy: 0.8345 - val_loss: 0.4020 - val_accuracy: 0.8312\n",
      "Epoch 10/1000\n",
      "469/469 [==============================] - 3s 6ms/step - loss: 0.3733 - accuracy: 0.8420 - val_loss: 0.4007 - val_accuracy: 0.8295\n",
      "Epoch 11/1000\n",
      "469/469 [==============================] - 3s 6ms/step - loss: 0.3698 - accuracy: 0.8450 - val_loss: 0.3977 - val_accuracy: 0.8325\n",
      "Epoch 12/1000\n",
      "469/469 [==============================] - 3s 6ms/step - loss: 0.3665 - accuracy: 0.8475 - val_loss: 0.4004 - val_accuracy: 0.8334\n",
      "Epoch 13/1000\n",
      "469/469 [==============================] - 3s 6ms/step - loss: 0.3632 - accuracy: 0.8514 - val_loss: 0.3943 - val_accuracy: 0.8351\n",
      "Epoch 14/1000\n",
      "469/469 [==============================] - 3s 6ms/step - loss: 0.3610 - accuracy: 0.8543 - val_loss: 0.3906 - val_accuracy: 0.8364\n",
      "Epoch 15/1000\n",
      "469/469 [==============================] - 3s 6ms/step - loss: 0.3584 - accuracy: 0.8511 - val_loss: 0.3917 - val_accuracy: 0.8399\n",
      "Epoch 16/1000\n",
      "469/469 [==============================] - 3s 6ms/step - loss: 0.3558 - accuracy: 0.8552 - val_loss: 0.3883 - val_accuracy: 0.8351\n",
      "Epoch 17/1000\n",
      "469/469 [==============================] - 3s 6ms/step - loss: 0.3531 - accuracy: 0.8550 - val_loss: 0.3877 - val_accuracy: 0.8390\n",
      "Epoch 18/1000\n",
      "469/469 [==============================] - 3s 6ms/step - loss: 0.3515 - accuracy: 0.8610 - val_loss: 0.3847 - val_accuracy: 0.8377\n",
      "Epoch 19/1000\n",
      "469/469 [==============================] - 3s 6ms/step - loss: 0.3490 - accuracy: 0.8616 - val_loss: 0.3831 - val_accuracy: 0.8395\n",
      "Epoch 20/1000\n",
      "469/469 [==============================] - 3s 6ms/step - loss: 0.3466 - accuracy: 0.8590 - val_loss: 0.3833 - val_accuracy: 0.8377\n",
      "Epoch 21/1000\n",
      "469/469 [==============================] - 3s 6ms/step - loss: 0.3451 - accuracy: 0.8622 - val_loss: 0.3842 - val_accuracy: 0.8464\n",
      "Epoch 22/1000\n",
      "469/469 [==============================] - 3s 6ms/step - loss: 0.3428 - accuracy: 0.8610 - val_loss: 0.3799 - val_accuracy: 0.8382\n",
      "Epoch 23/1000\n",
      "469/469 [==============================] - 3s 6ms/step - loss: 0.3422 - accuracy: 0.8639 - val_loss: 0.3788 - val_accuracy: 0.8412\n",
      "Epoch 24/1000\n",
      "469/469 [==============================] - 3s 6ms/step - loss: 0.3405 - accuracy: 0.8654 - val_loss: 0.3803 - val_accuracy: 0.8390\n",
      "Epoch 25/1000\n",
      "469/469 [==============================] - 3s 6ms/step - loss: 0.3393 - accuracy: 0.8656 - val_loss: 0.3827 - val_accuracy: 0.8434\n",
      "Epoch 26/1000\n",
      "469/469 [==============================] - 3s 6ms/step - loss: 0.3387 - accuracy: 0.8642 - val_loss: 0.3769 - val_accuracy: 0.8403\n",
      "Epoch 27/1000\n",
      "469/469 [==============================] - 3s 6ms/step - loss: 0.3374 - accuracy: 0.8639 - val_loss: 0.3773 - val_accuracy: 0.8429\n",
      "Epoch 28/1000\n",
      "469/469 [==============================] - 3s 6ms/step - loss: 0.3361 - accuracy: 0.8661 - val_loss: 0.3757 - val_accuracy: 0.8412\n",
      "Epoch 29/1000\n",
      "469/469 [==============================] - 3s 6ms/step - loss: 0.3349 - accuracy: 0.8644 - val_loss: 0.3790 - val_accuracy: 0.8390\n",
      "Epoch 30/1000\n",
      "469/469 [==============================] - 3s 6ms/step - loss: 0.3346 - accuracy: 0.8671 - val_loss: 0.3755 - val_accuracy: 0.8429\n",
      "Epoch 31/1000\n",
      "469/469 [==============================] - 3s 6ms/step - loss: 0.3339 - accuracy: 0.8667 - val_loss: 0.3741 - val_accuracy: 0.8403\n",
      "Epoch 32/1000\n",
      "469/469 [==============================] - 3s 6ms/step - loss: 0.3322 - accuracy: 0.8620 - val_loss: 0.3828 - val_accuracy: 0.8460\n",
      "Epoch 33/1000\n",
      "469/469 [==============================] - 3s 6ms/step - loss: 0.3316 - accuracy: 0.8648 - val_loss: 0.3771 - val_accuracy: 0.8438\n",
      "Epoch 34/1000\n",
      "469/469 [==============================] - 3s 6ms/step - loss: 0.3311 - accuracy: 0.8659 - val_loss: 0.3746 - val_accuracy: 0.8399\n",
      "Epoch 35/1000\n",
      "469/469 [==============================] - 3s 6ms/step - loss: 0.3308 - accuracy: 0.8671 - val_loss: 0.3746 - val_accuracy: 0.8395\n",
      "Epoch 36/1000\n",
      "469/469 [==============================] - 3s 6ms/step - loss: 0.3300 - accuracy: 0.8691 - val_loss: 0.3736 - val_accuracy: 0.8360\n",
      "Epoch 37/1000\n",
      "469/469 [==============================] - 3s 6ms/step - loss: 0.3281 - accuracy: 0.8682 - val_loss: 0.3787 - val_accuracy: 0.8425\n",
      "Epoch 38/1000\n",
      "469/469 [==============================] - 3s 6ms/step - loss: 0.3283 - accuracy: 0.8680 - val_loss: 0.3772 - val_accuracy: 0.8412\n",
      "Epoch 39/1000\n",
      "469/469 [==============================] - 3s 6ms/step - loss: 0.3279 - accuracy: 0.8682 - val_loss: 0.3800 - val_accuracy: 0.8438\n",
      "Epoch 40/1000\n",
      "469/469 [==============================] - 3s 6ms/step - loss: 0.3284 - accuracy: 0.8686 - val_loss: 0.3792 - val_accuracy: 0.8416\n",
      "Epoch 41/1000\n",
      "469/469 [==============================] - 3s 6ms/step - loss: 0.3266 - accuracy: 0.8678 - val_loss: 0.3760 - val_accuracy: 0.8434\n",
      "Epoch 42/1000\n",
      "469/469 [==============================] - 3s 7ms/step - loss: 0.3261 - accuracy: 0.8678 - val_loss: 0.3771 - val_accuracy: 0.8416\n",
      "Epoch 43/1000\n",
      "469/469 [==============================] - 3s 6ms/step - loss: 0.3255 - accuracy: 0.8688 - val_loss: 0.3763 - val_accuracy: 0.8421\n",
      "Epoch 44/1000\n",
      "469/469 [==============================] - 3s 6ms/step - loss: 0.3245 - accuracy: 0.8684 - val_loss: 0.3762 - val_accuracy: 0.8408\n",
      "Epoch 45/1000\n",
      "469/469 [==============================] - 3s 6ms/step - loss: 0.3253 - accuracy: 0.8669 - val_loss: 0.3743 - val_accuracy: 0.8390\n",
      "Epoch 46/1000\n",
      "469/469 [==============================] - 3s 6ms/step - loss: 0.3252 - accuracy: 0.8691 - val_loss: 0.3745 - val_accuracy: 0.8416\n",
      "Epoch 47/1000\n",
      "469/469 [==============================] - 3s 6ms/step - loss: 0.3239 - accuracy: 0.8688 - val_loss: 0.3767 - val_accuracy: 0.8434\n",
      "Epoch 48/1000\n",
      "469/469 [==============================] - 3s 6ms/step - loss: 0.3239 - accuracy: 0.8710 - val_loss: 0.3741 - val_accuracy: 0.8386\n",
      "Epoch 49/1000\n",
      "469/469 [==============================] - 3s 6ms/step - loss: 0.3232 - accuracy: 0.8708 - val_loss: 0.3751 - val_accuracy: 0.8382\n",
      "Epoch 50/1000\n",
      "469/469 [==============================] - 3s 6ms/step - loss: 0.3226 - accuracy: 0.8684 - val_loss: 0.3760 - val_accuracy: 0.8408\n",
      "Epoch 51/1000\n",
      "469/469 [==============================] - 3s 6ms/step - loss: 0.3220 - accuracy: 0.8686 - val_loss: 0.3759 - val_accuracy: 0.8399\n",
      "Epoch 52/1000\n",
      "469/469 [==============================] - 3s 6ms/step - loss: 0.3216 - accuracy: 0.8699 - val_loss: 0.3755 - val_accuracy: 0.8377\n",
      "Epoch 53/1000\n",
      "469/469 [==============================] - 3s 6ms/step - loss: 0.3204 - accuracy: 0.8688 - val_loss: 0.3827 - val_accuracy: 0.8438\n",
      "Epoch 54/1000\n",
      "469/469 [==============================] - 3s 6ms/step - loss: 0.3230 - accuracy: 0.8684 - val_loss: 0.3771 - val_accuracy: 0.8395\n",
      "Epoch 55/1000\n",
      "469/469 [==============================] - 3s 6ms/step - loss: 0.3208 - accuracy: 0.8693 - val_loss: 0.3794 - val_accuracy: 0.8360\n",
      "Epoch 56/1000\n",
      "469/469 [==============================] - 3s 6ms/step - loss: 0.3203 - accuracy: 0.8682 - val_loss: 0.3762 - val_accuracy: 0.8377\n",
      "Epoch 00056: early stopping\n"
     ]
    }
   ],
   "source": [
    "model_his = clf.fit(X_train,y_train,validation_split=0.33,batch_size=10,epochs=1000,callbacks=early_stopping)"
   ]
  },
  {
   "cell_type": "code",
   "execution_count": 41,
   "id": "016562cc",
   "metadata": {},
   "outputs": [
    {
     "data": {
      "text/plain": [
       "dict_keys(['loss', 'accuracy', 'val_loss', 'val_accuracy'])"
      ]
     },
     "execution_count": 41,
     "metadata": {},
     "output_type": "execute_result"
    }
   ],
   "source": [
    "model_his.history.keys()"
   ]
  },
  {
   "cell_type": "code",
   "execution_count": 42,
   "id": "316e19fe",
   "metadata": {},
   "outputs": [
    {
     "name": "stderr",
     "output_type": "stream",
     "text": [
      "2022-05-06 01:01:59.345696: I tensorflow/core/grappler/optimizers/custom_graph_optimizer_registry.cc:112] Plugin optimizer for device_type GPU is enabled.\n"
     ]
    }
   ],
   "source": [
    "y_pred = clf.predict(X_test)"
   ]
  },
  {
   "cell_type": "code",
   "execution_count": 43,
   "id": "21847ce7",
   "metadata": {},
   "outputs": [],
   "source": [
    "y_pred = (y_pred >0.5)"
   ]
  },
  {
   "cell_type": "code",
   "execution_count": 44,
   "id": "8c6f62c4",
   "metadata": {},
   "outputs": [],
   "source": [
    "from sklearn.metrics import confusion_matrix"
   ]
  },
  {
   "cell_type": "code",
   "execution_count": 45,
   "id": "1e5d560e",
   "metadata": {},
   "outputs": [],
   "source": [
    "cm = confusion_matrix(y_test,y_pred)"
   ]
  },
  {
   "cell_type": "code",
   "execution_count": 46,
   "id": "4138c7fd",
   "metadata": {},
   "outputs": [
    {
     "data": {
      "text/plain": [
       "array([[2291,  125],\n",
       "       [ 285,  299]])"
      ]
     },
     "execution_count": 46,
     "metadata": {},
     "output_type": "execute_result"
    }
   ],
   "source": [
    "cm"
   ]
  },
  {
   "cell_type": "code",
   "execution_count": 47,
   "id": "356a43d2",
   "metadata": {},
   "outputs": [],
   "source": [
    "# get the weights"
   ]
  },
  {
   "cell_type": "code",
   "execution_count": 48,
   "id": "e0592e20",
   "metadata": {},
   "outputs": [
    {
     "data": {
      "text/plain": [
       "[array([[ 0.32443878, -0.30458173, -0.32151675, -0.26925027,  0.05296366,\n",
       "          0.06215893, -0.04328356, -0.17390577,  0.30192   ,  0.09706915,\n",
       "         -0.14966293],\n",
       "        [ 0.23408572,  0.26840648,  0.13963269,  0.12004957, -0.20178267,\n",
       "          0.38929555, -0.03272981, -0.13537998, -0.11682396,  0.13999923,\n",
       "          0.4316206 ],\n",
       "        [-0.45395336, -0.3321059 , -0.21276173, -0.4148757 , -0.02397999,\n",
       "          0.59771395,  0.14151569, -0.7843834 , -0.74034137,  0.01548396,\n",
       "         -0.7390142 ],\n",
       "        [-0.06326623,  0.03788419, -0.13337041, -0.01799878, -0.18724255,\n",
       "          0.03539396, -0.12134453, -0.26169807,  0.08513755,  0.00702944,\n",
       "         -0.21265568],\n",
       "        [ 0.07028794,  0.08562414, -0.5873158 , -0.22603366, -0.44170904,\n",
       "         -0.3015591 ,  0.4730142 , -0.14766379,  0.04858366, -0.226203  ,\n",
       "         -0.02366889],\n",
       "        [-0.0987844 , -0.20680109, -0.20663244, -1.0745455 , -0.99345034,\n",
       "         -0.10577279,  0.9689682 ,  0.07653816, -0.01600772, -1.0014474 ,\n",
       "          0.44952253],\n",
       "        [-0.31074384,  0.59020823,  0.11579924,  0.5911316 , -0.11768077,\n",
       "         -0.07839633,  0.03068324, -0.17097065, -0.02605059, -0.22808819,\n",
       "          0.31686017],\n",
       "        [-0.7618406 ,  0.20282534,  0.27836305,  0.28103608,  0.07658136,\n",
       "          0.59159076, -0.25261542,  0.10410746, -0.22286308, -0.67536485,\n",
       "          0.22847305],\n",
       "        [-0.20836136,  0.06773403,  0.09057298,  0.32279128, -0.18070036,\n",
       "          0.0318265 , -0.09391385, -0.35209855,  0.09472719, -0.08155748,\n",
       "          0.1966831 ],\n",
       "        [-0.37389705, -0.6480464 ,  0.16716658,  0.27029723,  0.009039  ,\n",
       "          0.0636982 , -0.5241107 , -0.20274164,  0.29619047,  0.28146324,\n",
       "          0.49739617],\n",
       "        [-0.6303861 , -0.3664965 , -0.32179317,  0.22630052,  0.07561546,\n",
       "         -0.44761568, -0.17547469,  0.33449998,  0.41808757, -0.1402144 ,\n",
       "          0.36677152],\n",
       "        [-0.03999455, -0.1554724 ,  0.45273885, -0.4172865 ,  0.48584262,\n",
       "          0.2694309 , -0.06113821,  0.17631613,  0.14878945,  0.01424994,\n",
       "         -0.3962654 ]], dtype=float32),\n",
       " array([ 0.32488558,  0.7355061 ,  0.5826721 , -0.22546516, -0.41171914,\n",
       "        -0.05259805, -0.12469482,  0.5878783 ,  0.7924259 ,  0.13809517,\n",
       "         0.09487025], dtype=float32),\n",
       " array([[ 0.4159822 ,  0.13698798, -0.5192816 , -0.6637342 ,  0.18426631,\n",
       "          0.3555939 ,  0.71123236],\n",
       "        [-0.39389002,  0.7440454 ,  0.4126654 , -0.16381961,  0.4986582 ,\n",
       "         -0.16910423,  0.06628993],\n",
       "        [ 0.13313712,  0.13281822,  0.12547278, -0.22196794, -0.17358704,\n",
       "         -0.24013738,  0.58717847],\n",
       "        [ 0.3238925 , -0.7122172 , -0.16614898, -0.21457203,  0.13170479,\n",
       "         -0.9052885 ,  0.56070036],\n",
       "        [ 0.32298276, -0.7765807 , -0.20184587, -0.16555256, -0.14789118,\n",
       "          0.25732952, -0.25630793],\n",
       "        [-0.98834664, -0.12229637, -0.00401925,  0.5502212 ,  0.03206488,\n",
       "          0.72298306, -0.2748937 ],\n",
       "        [-0.7620472 , -0.643364  , -0.18720974, -0.27476704, -0.3658375 ,\n",
       "         -0.5760424 , -0.8296068 ],\n",
       "        [ 0.07663022,  0.17096233,  0.09198013,  0.5634589 , -0.16707288,\n",
       "          0.29877853,  0.02429235],\n",
       "        [ 0.22311446,  0.21446101, -0.9038013 , -0.01066791,  0.07115003,\n",
       "          0.36991435,  0.23169863],\n",
       "        [-1.1445488 , -0.44665557,  0.72610587, -0.47226855,  0.49102458,\n",
       "         -0.18102197, -0.01860353],\n",
       "        [-0.4862454 , -0.1311409 , -0.83129805, -1.261133  , -0.11465582,\n",
       "         -0.5395901 ,  0.13767311]], dtype=float32),\n",
       " array([-0.15005858,  0.9531003 ,  0.1857797 ,  0.15451784, -0.11710113,\n",
       "         0.26539543,  0.76811504], dtype=float32),\n",
       " array([[ 0.6158507 , -0.31997433, -0.6845429 ,  0.6668674 , -0.32898638,\n",
       "          0.55279136],\n",
       "        [ 0.39075342, -0.5248228 ,  1.276318  ,  0.57649446,  0.48090452,\n",
       "          0.44015005],\n",
       "        [-2.8082862 ,  0.11721306, -0.8403143 , -0.20028389, -1.6578758 ,\n",
       "         -3.7802444 ],\n",
       "        [-0.5315582 , -0.44991404,  0.805727  ,  1.0717022 , -0.48035422,\n",
       "         -1.719322  ],\n",
       "        [-0.5608638 , -0.08584748, -0.8271513 ,  0.16382268, -0.3666067 ,\n",
       "          0.06251942],\n",
       "        [-0.16219285, -0.10884523,  0.3844745 ,  0.3218754 ,  0.04430437,\n",
       "          0.14615904],\n",
       "        [ 0.0198365 , -0.20994759,  0.76349133, -0.7027697 ,  0.67484444,\n",
       "          0.2812864 ]], dtype=float32),\n",
       " array([-4.8954767e-01, -9.1689765e-02, -3.4705929e-03, -1.5144204e-05,\n",
       "        -1.1012532e-03, -6.9994390e-01], dtype=float32),\n",
       " array([[ 1.7105327 ],\n",
       "        [-0.34262094],\n",
       "        [-1.3146973 ],\n",
       "        [-1.5691022 ],\n",
       "        [-0.59115744],\n",
       "        [ 1.4622899 ]], dtype=float32),\n",
       " array([1.6825587], dtype=float32)]"
      ]
     },
     "execution_count": 48,
     "metadata": {},
     "output_type": "execute_result"
    }
   ],
   "source": [
    "clf.get_weights()"
   ]
  }
 ],
 "metadata": {
  "kernelspec": {
   "display_name": "Python 3.9 (tensorflow)",
   "language": "python",
   "name": "tensorflow"
  },
  "language_info": {
   "codemirror_mode": {
    "name": "ipython",
    "version": 3
   },
   "file_extension": ".py",
   "mimetype": "text/x-python",
   "name": "python",
   "nbconvert_exporter": "python",
   "pygments_lexer": "ipython3",
   "version": "3.9.6"
  }
 },
 "nbformat": 4,
 "nbformat_minor": 5
}
